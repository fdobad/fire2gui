{
 "cells": [
  {
   "cell_type": "markdown",
   "id": "e5b4bd91",
   "metadata": {},
   "source": [
    "# todo\n",
    "- translated .asc crs changes?\n",
    "- change gdal dependency to qGIS\n",
    "- plot (2y3d) jupyterlab interactive\n",
    "\n",
    "# install\n",
    "\n",
    "```bash\n",
    "sudo apt install python3-gdal gdal-bin\n",
    "git clone\n",
    "cd\n",
    "python3 -m venv pyvenv\n",
    "source pyvenv/bin/activate\n",
    "eio selfcheck\n",
    "```"
   ]
  },
  {
   "cell_type": "markdown",
   "id": "b43673f2",
   "metadata": {},
   "source": [
    "# usage\n",
    "## elevation to tif\n",
    "clip the SRTM1 30m DEM"
   ]
  },
  {
   "cell_type": "code",
   "execution_count": 1,
   "id": "f1f36669",
   "metadata": {},
   "outputs": [
    {
     "name": "stdout",
     "output_type": "stream",
     "text": [
      "make: Entering directory '/home/fdo/.cache/elevation/SRTM1'\n",
      "make: Nothing to be done for 'download'.\n",
      "make: Leaving directory '/home/fdo/.cache/elevation/SRTM1'\n",
      "make: Entering directory '/home/fdo/.cache/elevation/SRTM1'\n",
      "make: Nothing to be done for 'all'.\n",
      "make: Leaving directory '/home/fdo/.cache/elevation/SRTM1'\n",
      "make: Entering directory '/home/fdo/.cache/elevation/SRTM1'\n",
      "cp SRTM1.vrt SRTM1.ac9724599ed44dcd8dd6c6d8178ff2bb.vrt\n",
      "make: Leaving directory '/home/fdo/.cache/elevation/SRTM1'\n",
      "make: Entering directory '/home/fdo/.cache/elevation/SRTM1'\n",
      "gdal_translate -q -co TILED=YES -co COMPRESS=DEFLATE -co ZLEVEL=9 -co PREDICTOR=2 -projwin -70.6517350942473 -33.4112941796125 -70.6084247534509 -33.4341245538389 SRTM1.ac9724599ed44dcd8dd6c6d8178ff2bb.vrt /home/fdo/source/fire2gui/elevation/dem_30m.tif\n",
      "rm -f SRTM1.ac9724599ed44dcd8dd6c6d8178ff2bb.vrt\n",
      "make: Leaving directory '/home/fdo/.cache/elevation/SRTM1'\n"
     ]
    }
   ],
   "source": [
    "import elevation\n",
    "# bounds 'left bottom right top' order.\n",
    "# latitude and longitude coordinates (more precisely in geodetic coordinates in the WGS84 reference system EPSG:4326)\n",
    "#bounds = (-70.64499, -33.44232, -70.64213, -33.43770) # sta lucia\n",
    "#bounds = (-70.6543,-33.4444, -70.5698, -33.3793) # parque metropolitano\n",
    "#bounds = (-71.5731237178895, -33.0493175478135, -71.5287880407362, -33.0258435387726) # incendion vina del mar\n",
    "bounds = (-70.6517350942473, -33.4341245538389, -70.6084247534509, -33.4112941796125)\n",
    "\n",
    "\n",
    "# else output goes to elevation.CACHE_DIR e.g.: ~/.cache/elevation/SRTM1/out.tif\n",
    "import os\n",
    "output = os.path.join( os.getcwd() , 'dem_30m.tif')\n",
    "elevation.clip( bounds, product='SRTM1', output=output)"
   ]
  },
  {
   "cell_type": "markdown",
   "id": "f1e8c239",
   "metadata": {},
   "source": [
    "## tif to raster(io) manipulations"
   ]
  },
  {
   "cell_type": "code",
   "execution_count": 2,
   "id": "16a2ec3d-977b-421d-8cc1-05db16d4961f",
   "metadata": {
    "tags": []
   },
   "outputs": [
    {
     "name": "stdout",
     "output_type": "stream",
     "text": [
      "('int16',) 156 82 (0.0002777777777777778, 0.0002777777777777778) BoundingBox(left=-70.65180555555555, bottom=-33.43402777777777, right=-70.60847222222222, top=-33.411249999999995) EPSG:4326\n"
     ]
    }
   ],
   "source": [
    "import rasterio\n",
    "dataset = rasterio.open('dem_30m.tif')\n",
    "\n",
    "# some properties\n",
    "print(dataset.dtypes, dataset.width, dataset.height, dataset.res, dataset.bounds, dataset.crs)\n",
    "\n",
    "# upper left corner\n",
    "dataset.transform * (0, 0) \n",
    "# lower right corner\n",
    "dataset.transform * (dataset.width, dataset.height)\n",
    "\n",
    "# get data array\n",
    "dataset.indexes\n",
    "band1 = dataset.read(1) # returns 2d numpy array"
   ]
  },
  {
   "cell_type": "code",
   "execution_count": 3,
   "id": "b4a16f95-7e86-43a1-8903-3a3165f65b11",
   "metadata": {
    "tags": []
   },
   "outputs": [
    {
     "name": "stdout",
     "output_type": "stream",
     "text": [
      "{\n",
      "  \"blockxsize\": 256,\n",
      "  \"blockysize\": 256,\n",
      "  \"bounds\": [\n",
      "    -70.65180555555555,\n",
      "    -33.43402777777777,\n",
      "    -70.60847222222222,\n",
      "    -33.411249999999995\n",
      "  ],\n",
      "  \"checksum\": [\n",
      "    21260\n",
      "  ],\n",
      "  \"colorinterp\": [\n",
      "    \"gray\"\n",
      "  ],\n",
      "  \"compress\": \"deflate\",\n",
      "  \"count\": 1,\n",
      "  \"crs\": \"EPSG:4326\",\n",
      "  \"descriptions\": [\n",
      "    null\n",
      "  ],\n",
      "  \"driver\": \"GTiff\",\n",
      "  \"dtype\": \"int16\",\n",
      "  \"height\": 82,\n",
      "  \"indexes\": [\n",
      "    1\n",
      "  ],\n",
      "  \"interleave\": \"band\",\n",
      "  \"lnglat\": [\n",
      "    -70.6301388888889,\n",
      "    -33.42263888888888\n",
      "  ],\n",
      "  \"mask_flags\": [\n",
      "    [\n",
      "      \"nodata\"\n",
      "    ]\n",
      "  ],\n",
      "  \"nodata\": -32768.0,\n",
      "  \"res\": [\n",
      "    0.0002777777777777778,\n",
      "    0.0002777777777777778\n",
      "  ],\n",
      "  \"shape\": [\n",
      "    82,\n",
      "    156\n",
      "  ],\n",
      "  \"stats\": [\n",
      "    {\n",
      "      \"max\": 889.0,\n",
      "      \"mean\": 618.6495465916178,\n",
      "      \"min\": 534.0,\n",
      "      \"std\": 67.31603374229468\n",
      "    }\n",
      "  ],\n",
      "  \"tiled\": true,\n",
      "  \"transform\": [\n",
      "    0.0002777777777777778,\n",
      "    0.0,\n",
      "    -70.65180555555555,\n",
      "    0.0,\n",
      "    -0.0002777777777777778,\n",
      "    -33.411249999999995,\n",
      "    0.0,\n",
      "    0.0,\n",
      "    1.0\n",
      "  ],\n",
      "  \"units\": [\n",
      "    null\n",
      "  ],\n",
      "  \"width\": 156\n",
      "}\n"
     ]
    }
   ],
   "source": [
    "# print info\n",
    "!rio info dem_30m.tif --indent 2 --verbose"
   ]
  },
  {
   "cell_type": "code",
   "execution_count": 4,
   "id": "af5a9b63-6624-4482-a5b1-f0573c6d44fb",
   "metadata": {
    "tags": []
   },
   "outputs": [],
   "source": [
    "# get json info\n",
    "import json\n",
    "info = json.loads(os.popen('rio info dem_30m.tif').read())"
   ]
  },
  {
   "cell_type": "markdown",
   "id": "7107a38b",
   "metadata": {},
   "source": [
    "## plot"
   ]
  },
  {
   "cell_type": "code",
   "execution_count": 5,
   "id": "637f978c",
   "metadata": {},
   "outputs": [],
   "source": [
    "from matplotlib import pyplot as plt\n",
    "def plot( dataset):\n",
    "    plt.clf()\n",
    "    plt.imshow(dataset.read(1), cmap='terrain')\n",
    "    plt.savefig('out.png')\n",
    "    plt.show()"
   ]
  },
  {
   "cell_type": "code",
   "execution_count": 6,
   "id": "85c9ceab-1b7e-4e79-b2b2-76c8aae49af2",
   "metadata": {},
   "outputs": [
    {
     "data": {
      "image/png": "[encoded data removed]",
      "text/plain": [
       "<Figure size 432x288 with 1 Axes>"
      ]
     },
     "metadata": {
      "needs_background": "light"
     },
     "output_type": "display_data"
    }
   ],
   "source": [
    "plot(dataset)"
   ]
  },
  {
   "cell_type": "markdown",
   "id": "11b1c0dc",
   "metadata": {},
   "source": [
    "## translate dem\n",
    "NOTE: \"!\" means command is run in the terminal  \n",
    "### tif -> asc"
   ]
  },
  {
   "cell_type": "code",
   "execution_count": 7,
   "id": "3ed6c758-3b55-428a-b48f-e6f00413611e",
   "metadata": {},
   "outputs": [
    {
     "name": "stdout",
     "output_type": "stream",
     "text": [
      "Input file size is 156, 82\n",
      "0...10...20...30...40...50...60...70...80...90...100 - done.\n"
     ]
    }
   ],
   "source": [
    "! gdal_translate -of AAIGrid dem_30m.tif dem_30m.asc"
   ]
  },
  {
   "cell_type": "markdown",
   "id": "0bf001a4-f6c0-416b-9b37-bdab4952c97e",
   "metadata": {},
   "source": [
    "### tif -> asc /3 cellsize\n",
    "As SRTM1 data source is 30m but fire2cell uses 100m do:"
   ]
  },
  {
   "cell_type": "code",
   "execution_count": 8,
   "id": "7d8e061c-a87b-4134-a413-51115a1abfd7",
   "metadata": {},
   "outputs": [
    {
     "data": {
      "text/plain": [
       "0.000925925925925926"
      ]
     },
     "execution_count": 8,
     "metadata": {},
     "output_type": "execute_result"
    }
   ],
   "source": [
    "dataset.res[0]*10/3"
   ]
  },
  {
   "cell_type": "code",
   "execution_count": 9,
   "id": "9e941ccc",
   "metadata": {},
   "outputs": [
    {
     "name": "stdout",
     "output_type": "stream",
     "text": [
      "Input file size is 156, 82\n",
      "0...10...20...30...40...50...60...70...80...90...100 - done.\n"
     ]
    }
   ],
   "source": [
    "!gdal_translate -tr 0.000925925925925926 0.000925925925925926 -of AAIGrid dem_30m.tif dem_100m.tif"
   ]
  },
  {
   "cell_type": "markdown",
   "id": "88c54ab5-8a86-4c75-9e29-5c85f778b14a",
   "metadata": {},
   "source": [
    "#### plot"
   ]
  },
  {
   "cell_type": "code",
   "execution_count": 10,
   "id": "2aa977cd-8c0a-4e6d-9d39-b0b94bb68ec0",
   "metadata": {},
   "outputs": [
    {
     "data": {
      "image/png": "[encoded data removed]",
      "text/plain": [
       "<Figure size 432x288 with 1 Axes>"
      ]
     },
     "metadata": {
      "needs_background": "light"
     },
     "output_type": "display_data"
    }
   ],
   "source": [
    "dataset = rasterio.open('dem_100m.tif')\n",
    "plot(dataset)"
   ]
  },
  {
   "cell_type": "code",
   "execution_count": 11,
   "id": "dd04b46c-a762-4abe-93f2-0b77b2e5b67f",
   "metadata": {},
   "outputs": [
    {
     "data": {
      "image/png": "[encoded data removed]",
      "text/plain": [
       "<Figure size 432x288 with 1 Axes>"
      ]
     },
     "metadata": {
      "needs_background": "light"
     },
     "output_type": "display_data"
    }
   ],
   "source": [
    "dataset = rasterio.open('dem_100m.asc')\n",
    "plot(dataset)"
   ]
  },
  {
   "cell_type": "markdown",
   "id": "64461ae4",
   "metadata": {},
   "source": [
    "## lat/long <-> (chile) utm\n",
    "### gdal"
   ]
  },
  {
   "cell_type": "raw",
   "id": "0c56e745-a7c5-4907-a3af-56e8cdeac116",
   "metadata": {},
   "source": [
    "!gdaltransform -s_srs epsg:4326 -t_srs epsg:24879\n",
    "Enter X Y [Z [T]] values separated by space, and press Return.\n",
    "-70.645138888889 -33.442361111111\n",
    "347264.443426759 6298834.38844403 0"
   ]
  },
  {
   "cell_type": "markdown",
   "id": "3fde7ebd-9d55-422d-9a56-9f3c456e6e2b",
   "metadata": {},
   "source": [
    "### qgis"
   ]
  },
  {
   "cell_type": "code",
   "execution_count": 12,
   "id": "a93bcbac-e3a5-453a-a1a0-c10918bbadfb",
   "metadata": {},
   "outputs": [],
   "source": [
    "from qgis.core import (\n",
    "        QgsCoordinateReferenceSystem,\n",
    "        QgsCoordinateTransform,\n",
    "        QgsProject,\n",
    "        QgsPointXY,\n",
    "        )"
   ]
  },
  {
   "cell_type": "code",
   "execution_count": 13,
   "id": "1d34d892-c8be-4e7d-b289-a72796825a79",
   "metadata": {},
   "outputs": [],
   "source": [
    "crsSrc = QgsCoordinateReferenceSystem(\"EPSG:24879\")\n",
    "crsDest = QgsCoordinateReferenceSystem(\"EPSG:4326\")\n",
    "transformContext = QgsProject.instance().transformContext()\n",
    "xform = QgsCoordinateTransform(crsSrc, crsDest, transformContext)"
   ]
  },
  {
   "cell_type": "code",
   "execution_count": 14,
   "id": "4491c3d0-7636-4c4e-be4a-df664c7b341e",
   "metadata": {},
   "outputs": [
    {
     "data": {
      "text/plain": [
       "<QgsPointXY: POINT(43.19725545081938378 -27.76883310127086091)>"
      ]
     },
     "execution_count": 14,
     "metadata": {},
     "output_type": "execute_result"
    }
   ],
   "source": [
    "point24879 = QgsPointXY(7864180.88813121151179075, -3954168.27993376972153783)\n",
    "point4326 = xform.transform(point24879)\n",
    "point4326"
   ]
  },
  {
   "cell_type": "code",
   "execution_count": 15,
   "id": "3ccee43a-0b52-4180-a4b3-f3bb61b18174",
   "metadata": {},
   "outputs": [
    {
     "data": {
      "text/plain": [
       "<QgsPointXY: POINT(347282.24207610113080591 6298780.79974185116589069)>"
      ]
     },
     "execution_count": 15,
     "metadata": {},
     "output_type": "execute_result"
    }
   ],
   "source": [
    "point4326 = QgsPointXY(-70.645138888889, -33.442361111111)\n",
    "point24879 = xform.transform(point4326, QgsCoordinateTransform.ReverseTransform)\n",
    "point24879"
   ]
  },
  {
   "cell_type": "markdown",
   "id": "1cb7710d-bafe-49c6-8415-18ef4f09910a",
   "metadata": {
    "jp-MarkdownHeadingCollapsed": true
   },
   "source": [
    "### HINT\n",
    "- Desde, lat/long es: WGS84 reference system EPSG:4326\n",
    "- Hasta, en Chile:\n",
    " - zona sur: EPSG:24879 > PSAD56 / UTM zone 19S\n",
    " - zona norte: EPSG:29193 SAD69 / UTM zone 23S"
   ]
  },
  {
   "cell_type": "markdown",
   "id": "72e06b06-8f8f-4bca-a71f-79e18854718b",
   "metadata": {},
   "source": [
    "# references\n",
    "https://www.sirgaschile.cl/ConversionSC/transformadorDatum.html  \n",
    "https://epsg.io/24879  \n",
    "https://epsg.io/29193  \n",
    "https://gdal.org/programs/gdaltransform.html  \n",
    "https://gdal.org/programs/gdal_translate.html  \n",
    "https://www.researchgate.net/post/How-to-obtain-digital-elevation-data-in-ascii-format  \n",
    "https://www.openstreetmap.org  \n",
    "http://elevation.bopen.eu/en/stable/quickstart.html  \n",
    "https://rasterio.readthedocs.io/en/latest/quickstart.html  \n",
    "\n",
    "# plop\n",
    "https://stackoverflow.com/questions/55827778/elevation-xyz-data-to-slope-gradient-map-using-python  \n",
    "https://stackoverflow.com/search?q=python+elevation&s=676696f8-8555-45f8-b4ae-c2adceb79ded  "
   ]
  }
 ],
 "metadata": {
  "jupytext": {
   "cell_metadata_filter": "-all",
   "main_language": "python",
   "notebook_metadata_filter": "-all"
  },
  "kernelspec": {
   "display_name": "Python 3 (ipykernel)",
   "language": "python",
   "name": "python3"
  },
  "language_info": {
   "codemirror_mode": {
    "name": "ipython",
    "version": 3
   },
   "file_extension": ".py",
   "mimetype": "text/x-python",
   "name": "python",
   "nbconvert_exporter": "python",
   "pygments_lexer": "ipython3",
   "version": "3.9.2"
  }
 },
 "nbformat": 4,
 "nbformat_minor": 5
}
